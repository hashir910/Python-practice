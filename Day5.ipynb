{
 "cells": [
  {
   "cell_type": "code",
   "execution_count": 46,
   "id": "c3c62748-b18e-4b0f-8c6c-62419536903b",
   "metadata": {},
   "outputs": [
    {
     "name": "stdout",
     "output_type": "stream",
     "text": [
      "no list\n",
      "set()\n",
      "no list\n",
      "no list\n"
     ]
    }
   ],
   "source": [
    "dict={'name': 'hashir',\n",
    "     'age':[0,10,30,40],\n",
    "     'gender':set()}\n",
    "# print(dict.get('kbd','N/A')) doesn't raise error if key doesn't found\n",
    "# popval=dict.pop('name') remove the value through key\n",
    "# lastitem=dict.popitem() remove the last element\n",
    "# print(popval)\n",
    "# print(dict)\n",
    "# print(lastitem)\n",
    "# key=dict.keys() give all the keys\n",
    "# print(key)\n",
    "# value=dict.values() give all the values\n",
    "# print(value)\n",
    "# itm=dict.items() give the set of all keys and values\n",
    "\n",
    "# print(itm)\n",
    "# print(list(itm)[0])\n",
    "# ls=[1,2,3,4,5]\n",
    "\n",
    "# dict.setdefault('kda','fuzeal')\n",
    "# print(dict)\n",
    "\n",
    "dict.update({'father':'Sajid Iqbal','kbd':'ldk'})\n",
    "del dict['name'] #del the particular key from dictionary doesn't return anything\n",
    "# dict.clear() #clears the dictionary\n",
    "# print(dict.item()[0]) doesn't work have to convert the whole thing in the list and then give the index\n",
    "for i in dict.values():\n",
    "    if isinstance(i,set):\n",
    "        print(i)\n",
    "    else:\n",
    "        print('no list')"
   ]
  },
  {
   "cell_type": "code",
   "execution_count": 76,
   "id": "b3a2370f-5bcc-4aac-8e9f-420d24c4c6b0",
   "metadata": {},
   "outputs": [
    {
     "name": "stdout",
     "output_type": "stream",
     "text": [
      "False\n",
      "False\n",
      "{2}\n",
      "{1, 2, 3, 4, 5, 6, 10}\n",
      "{1, 10, 3}\n",
      "{1, 10, 3, 100}\n",
      "1\n",
      "{10, 3, 100}\n",
      "True\n"
     ]
    }
   ],
   "source": [
    "#sets \n",
    "\n",
    "set1={1,2,3,10}\n",
    "set2={2,4,5,6}\n",
    "\n",
    "# set1.update({3,4,5})\n",
    "# set1.remove(2) # remove the particular element if it doesn't exist raise the error\n",
    "# set1.discard(10) # remove the particular element if it doesn't exist doesn't raise the error\n",
    "# print(set1)\n",
    "\n",
    "set3=set1.union(set2)\n",
    "s4=set1.intersection(set2)\n",
    "print(set1.issubset(set2))\n",
    "print(set1.isdisjoint(set2))\n",
    "\n",
    "s5=set1.difference(set2)\n",
    "print(s4)\n",
    "print(set3)\n",
    "\n",
    "print(s5)\n",
    "s5.add(100)\n",
    "print(s5)\n",
    "print(s5.pop())\n",
    "print(s5)\n",
    "\n",
    "print({1,2}.issubset(set1))"
   ]
  },
  {
   "cell_type": "code",
   "execution_count": 89,
   "id": "fd338603-2d99-4609-b9b7-8569af12002d",
   "metadata": {},
   "outputs": [
    {
     "name": "stdin",
     "output_type": "stream",
     "text": [
      "Give me the sentence: i love i love i fuck\n"
     ]
    },
    {
     "name": "stdout",
     "output_type": "stream",
     "text": [
      "{'i': 3, 'love': 2, 'fuck': 1}\n"
     ]
    }
   ],
   "source": [
    "# word counter\n",
    "\n",
    "val=input(\"Give me the sentence:\")\n",
    "\n",
    "ls=val.split(' ')\n",
    "d={}\n",
    "\n",
    "for i in ls:\n",
    "    d[i]=d.get(i,0)+1\n",
    "print(d)"
   ]
  },
  {
   "cell_type": "code",
   "execution_count": 3,
   "id": "314b7c59-bb56-43e0-98bd-012e368c482b",
   "metadata": {},
   "outputs": [
    {
     "name": "stdin",
     "output_type": "stream",
     "text": [
      "give me the value i love pakistan\n"
     ]
    },
    {
     "name": "stdout",
     "output_type": "stream",
     "text": [
      "Counter({'i': 2, ' ': 2, 'a': 2, 'l': 1, 'o': 1, 'v': 1, 'e': 1, 'p': 1, 'k': 1, 's': 1, 't': 1, 'n': 1})\n"
     ]
    }
   ],
   "source": [
    "# frequency counter\n",
    "from collections import Counter\n",
    "\n",
    "val=input('give me the value')\n",
    "ls=list(val)\n",
    "count=(Counter(ls))\n",
    "print(count)\n",
    "\n",
    "for i,v in count.items():\n",
    "    print(i,v)"
   ]
  },
  {
   "cell_type": "code",
   "execution_count": null,
   "id": "c07a6320-dbd0-4e4e-8eeb-dfa7e80c1dde",
   "metadata": {},
   "outputs": [],
   "source": []
  }
 ],
 "metadata": {
  "kernelspec": {
   "display_name": "Python 3 (ipykernel)",
   "language": "python",
   "name": "python3"
  },
  "language_info": {
   "codemirror_mode": {
    "name": "ipython",
    "version": 3
   },
   "file_extension": ".py",
   "mimetype": "text/x-python",
   "name": "python",
   "nbconvert_exporter": "python",
   "pygments_lexer": "ipython3",
   "version": "3.13.0"
  }
 },
 "nbformat": 4,
 "nbformat_minor": 5
}

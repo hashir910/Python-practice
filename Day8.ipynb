{
 "cells": [
  {
   "cell_type": "code",
   "execution_count": 32,
   "id": "6c4ba137-6c5e-4dd6-8dc5-98ffffaa3c69",
   "metadata": {},
   "outputs": [
    {
     "name": "stdout",
     "output_type": "stream",
     "text": [
      "['This', 'is', 'my', 'file']\n",
      "['hashir', 'is', 'hashir']\n"
     ]
    }
   ],
   "source": [
    "# file handling\n",
    "# with open('file1.txt','w') as file:\n",
    "#     file.write('This is my file')\n",
    "    \n",
    "# with open('file1.txt','a')as file:\n",
    "#     file.write('\\n hashir is hashir')\n",
    "\n",
    "\n",
    "# with open('file1.txt','r')as file:\n",
    "#     for line in file:\n",
    "#         kbd=line.strip()\n",
    "#         print(kbd.split(' '))\n",
    "\n"
   ]
  },
  {
   "cell_type": "code",
   "execution_count": 41,
   "id": "fc260eff-3b30-44f1-8d0b-420c2a61e8e5",
   "metadata": {},
   "outputs": [],
   "source": [
    "#try except and finally#\n",
    "import os\n",
    "\n",
    "try:\n",
    "    if not os.path.exists('kbd'):\n",
    "        os.mkdir('kbd')\n",
    "    else:\n",
    "        pass\n",
    "        \n",
    "except Exception as e:\n",
    "    print(e)\n",
    "\n"
   ]
  },
  {
   "cell_type": "code",
   "execution_count": null,
   "id": "2a759c4a-28ca-44c1-b99a-ca4d250152da",
   "metadata": {},
   "outputs": [],
   "source": []
  }
 ],
 "metadata": {
  "kernelspec": {
   "display_name": "Python 3 (ipykernel)",
   "language": "python",
   "name": "python3"
  },
  "language_info": {
   "codemirror_mode": {
    "name": "ipython",
    "version": 3
   },
   "file_extension": ".py",
   "mimetype": "text/x-python",
   "name": "python",
   "nbconvert_exporter": "python",
   "pygments_lexer": "ipython3",
   "version": "3.13.0"
  }
 },
 "nbformat": 4,
 "nbformat_minor": 5
}

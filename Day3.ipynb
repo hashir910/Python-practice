{
 "cells": [
  {
   "cell_type": "code",
   "execution_count": 4,
   "id": "084de07d-8433-4981-aa24-b10d05549125",
   "metadata": {},
   "outputs": [
    {
     "name": "stdout",
     "output_type": "stream",
     "text": [
      "1\n",
      "4\n",
      "7\n",
      "10\n"
     ]
    }
   ],
   "source": [
    "# loops\n",
    "\n",
    "for i in range(1,12,3):\n",
    "    print(i)"
   ]
  },
  {
   "cell_type": "code",
   "execution_count": 5,
   "id": "4c4badd8-e62f-40a0-a90d-83adfcbcb758",
   "metadata": {},
   "outputs": [
    {
     "name": "stdout",
     "output_type": "stream",
     "text": [
      "1\n",
      "2\n",
      "loop breaked\n"
     ]
    }
   ],
   "source": [
    "# break\n",
    "for i in range(1,11):\n",
    "    if i==3:\n",
    "        print('loop breaked')\n",
    "        break\n",
    "    else:\n",
    "        print(i)"
   ]
  },
  {
   "cell_type": "code",
   "execution_count": 7,
   "id": "e269e377-0f85-4cea-aa35-aa798f48fd50",
   "metadata": {},
   "outputs": [
    {
     "name": "stdout",
     "output_type": "stream",
     "text": [
      "1\n",
      "2\n",
      "4\n",
      "5\n",
      "6\n",
      "7\n",
      "8\n",
      "9\n",
      "10\n"
     ]
    }
   ],
   "source": [
    "#continue\n",
    "for i in range(1,11):\n",
    "    if i==3:\n",
    "        continue\n",
    "        print('loop continued')\n",
    "        \n",
    "    else:\n",
    "        print(i)"
   ]
  },
  {
   "cell_type": "code",
   "execution_count": 1,
   "id": "a22b3e08-6b7b-4823-a429-03fa936e5b0d",
   "metadata": {},
   "outputs": [
    {
     "name": "stdout",
     "output_type": "stream",
     "text": [
      "0\n",
      "1\n",
      "2\n",
      "3\n",
      "4\n"
     ]
    }
   ],
   "source": [
    "# do while loop created manually\n",
    "\n",
    "i=0\n",
    "\n",
    "while True:\n",
    "    print(i)\n",
    "    i+=1\n",
    "    if i==5:\n",
    "        break"
   ]
  },
  {
   "cell_type": "code",
   "execution_count": 18,
   "id": "e10fd8d3-b9b7-41ce-9747-15acafabfb8b",
   "metadata": {},
   "outputs": [
    {
     "name": "stdin",
     "output_type": "stream",
     "text": [
      "how many rows do you want 5\n"
     ]
    },
    {
     "name": "stdout",
     "output_type": "stream",
     "text": [
      "* \n",
      "\n",
      "* * \n",
      "\n",
      "* * * \n",
      "\n",
      "* * * * \n",
      "\n",
      "* * * * * \n",
      "\n"
     ]
    }
   ],
   "source": [
    "# nested loop\n",
    "\n",
    "inp=int(input('how many rows do you want'))\n",
    "\n",
    "for i in range(1,inp+1):\n",
    "    \n",
    "    for k in range(1,i+1):\n",
    "        print('*',end=' ')\n",
    "        \n",
    "    print('\\n')\n"
   ]
  },
  {
   "cell_type": "code",
   "execution_count": 2,
   "id": "fab2ec2c-1e65-4547-9c59-7ff80aad2fe9",
   "metadata": {},
   "outputs": [
    {
     "name": "stdout",
     "output_type": "stream",
     "text": [
      "1\n",
      "2\n",
      "3\n",
      "4\n",
      "5\n",
      "6\n",
      "6\n"
     ]
    }
   ],
   "source": [
    "matrix = [[1, 2], [3, 4, 5], [6]]\n",
    "length=0\n",
    "for i in matrix:\n",
    "    if len(i)>1:\n",
    "        for k in i:\n",
    "            length+=1\n",
    "    else:\n",
    "        length+=1\n",
    "print(length)"
   ]
  },
  {
   "cell_type": "code",
   "execution_count": 4,
   "id": "7d5650a1-5c4f-4767-9498-063246464b72",
   "metadata": {},
   "outputs": [
    {
     "name": "stdout",
     "output_type": "stream",
     "text": [
      "[2, 3, 1]\n",
      "6\n"
     ]
    }
   ],
   "source": [
    "matrix = [[1, 2], [3, 4, 5], [6]]\n",
    "\n",
    "val=[len(i) for i in matrix]\n",
    "print(val)\n",
    "print(sum(val))\n"
   ]
  },
  {
   "cell_type": "code",
   "execution_count": 6,
   "id": "33985258-2770-4158-ba23-b34f60115a59",
   "metadata": {},
   "outputs": [
    {
     "name": "stdin",
     "output_type": "stream",
     "text": [
      "Which table do you want: 11\n"
     ]
    },
    {
     "name": "stdout",
     "output_type": "stream",
     "text": [
      "1 x 11 = 11\n",
      "2 x 11 = 22\n",
      "3 x 11 = 33\n",
      "4 x 11 = 44\n",
      "5 x 11 = 55\n",
      "6 x 11 = 66\n",
      "7 x 11 = 77\n",
      "8 x 11 = 88\n",
      "9 x 11 = 99\n",
      "10 x 11 = 110\n"
     ]
    }
   ],
   "source": [
    "# table printing\n",
    "\n",
    "inte=int(input('Which table do you want:'))\n",
    "\n",
    "for i in range(1,11):\n",
    "    print(f'{i} x {inte} = {i*11}')"
   ]
  },
  {
   "cell_type": "code",
   "execution_count": 29,
   "id": "de96fe7b-c9b6-4eef-bcd5-05753b3252f5",
   "metadata": {},
   "outputs": [
    {
     "name": "stdin",
     "output_type": "stream",
     "text": [
      "factorial of :  7\n"
     ]
    },
    {
     "name": "stdout",
     "output_type": "stream",
     "text": [
      "5040\n"
     ]
    }
   ],
   "source": [
    "# factorial\n",
    "\n",
    "val=int(input('factorial of : '))\n",
    "\n",
    "def checkfact(val):\n",
    "    sum=1\n",
    "    if val==0 or val==1:\n",
    "        print('in')\n",
    "        return sum\n",
    "        \n",
    "    else:\n",
    "        for i in range(1,val+1):\n",
    "            sum*=i\n",
    "        return sum\n",
    "ans=checkfact(val)\n",
    "\n",
    "print(ans)\n",
    "        "
   ]
  },
  {
   "cell_type": "code",
   "execution_count": 31,
   "id": "3217697d-843e-4379-bbda-fb6b249cfbfc",
   "metadata": {},
   "outputs": [
    {
     "name": "stdin",
     "output_type": "stream",
     "text": [
      "give the no: 11\n"
     ]
    },
    {
     "name": "stdout",
     "output_type": "stream",
     "text": [
      "66\n"
     ]
    }
   ],
   "source": [
    "# sum of digits\n",
    "\n",
    "inp=int(input('give the no:'))\n",
    "\n",
    "sum=0\n",
    "for i in range(1,inp+1):\n",
    "    sum+=i\n",
    "\n",
    "print(sum)"
   ]
  },
  {
   "cell_type": "code",
   "execution_count": null,
   "id": "54af093a-9c9a-4684-8629-20fb233dd450",
   "metadata": {},
   "outputs": [],
   "source": []
  }
 ],
 "metadata": {
  "kernelspec": {
   "display_name": "Python 3 (ipykernel)",
   "language": "python",
   "name": "python3"
  },
  "language_info": {
   "codemirror_mode": {
    "name": "ipython",
    "version": 3
   },
   "file_extension": ".py",
   "mimetype": "text/x-python",
   "name": "python",
   "nbconvert_exporter": "python",
   "pygments_lexer": "ipython3",
   "version": "3.13.0"
  }
 },
 "nbformat": 4,
 "nbformat_minor": 5
}

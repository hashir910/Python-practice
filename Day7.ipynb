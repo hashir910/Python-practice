{
 "cells": [
  {
   "cell_type": "code",
   "execution_count": 25,
   "id": "69675a5d-7fbf-437e-9b8a-5db0679ded93",
   "metadata": {},
   "outputs": [
    {
     "name": "stdout",
     "output_type": "stream",
     "text": [
      "md\n",
      "{0: 'a', 2: 'h', 4: 'r', 6: 'h', 8: 'e'}\n"
     ]
    }
   ],
   "source": [
    "#string manipulation\n",
    "\n",
    "name='hashirahmed!!!!!!!!'\n",
    "\n",
    "#indexing\n",
    "print(name[-3::2])\n",
    "new_string={key*2:value for key,value in enumerate(name[1::2]) }\n",
    "print(new_string)\n"
   ]
  },
  {
   "cell_type": "code",
   "execution_count": 50,
   "id": "2faba910-a745-45bf-8869-148d87110f43",
   "metadata": {},
   "outputs": [
    {
     "name": "stdout",
     "output_type": "stream",
     "text": [
      "2\n",
      "HASHIRAHMED\n",
      "hashirahmed\n",
      "True\n",
      "False\n",
      "True\n",
      "Hashirahmed\n",
      "['h', 'shir', 'hmed']\n",
      "<class 'list'>\n",
      "6\n",
      "[0, 3, 7]\n"
     ]
    }
   ],
   "source": [
    "print(name.count('a'))\n",
    "print(name.upper())\n",
    "print(name.lower())\n",
    "print(name.isprintable())\n",
    "print(name.isupper())\n",
    "print(name.islower())\n",
    "print(name.title())\n",
    "print(name.split('a'))\n",
    "print(type(name.rsplit('!')))\n",
    "print(name.rindex('a'))\n",
    "\n",
    "#all the indexes of a\n",
    "ind=[index for index,value in enumerate(name) if value=='h']\n",
    "print(ind)"
   ]
  },
  {
   "cell_type": "code",
   "execution_count": 51,
   "id": "195a8756-256d-4b8a-9f04-1f8272f59f1e",
   "metadata": {},
   "outputs": [
    {
     "name": "stdin",
     "output_type": "stream",
     "text": [
      "give me the string madam\n"
     ]
    },
    {
     "name": "stdout",
     "output_type": "stream",
     "text": [
      "True\n"
     ]
    }
   ],
   "source": [
    "#palindrome checker\n",
    "\n",
    "val=input('give me the string')\n",
    "\n",
    "if val==val[::-1]:\n",
    "    print('True')\n",
    "else:\n",
    "    print('False')"
   ]
  },
  {
   "cell_type": "code",
   "execution_count": 53,
   "id": "8d63e42c-d3f0-494b-8874-e0ee6bc2abd7",
   "metadata": {},
   "outputs": [
    {
     "name": "stdin",
     "output_type": "stream",
     "text": [
      "give me a sentence: muzammil is lali paglu\n"
     ]
    },
    {
     "name": "stdout",
     "output_type": "stream",
     "text": [
      "{1: 'muzammil', 2: 'is', 3: 'lali', 4: 'paglu'}\n"
     ]
    }
   ],
   "source": [
    "# word counter\n",
    "\n",
    "val=input('give me a sentence:')\n",
    "ls=val.split(' ')\n",
    "dict={key+1:value for key,value in enumerate(ls)}\n",
    "print(dict)"
   ]
  },
  {
   "cell_type": "code",
   "execution_count": 105,
   "id": "d1473c5a-2879-4cdf-a12c-3de32fcae167",
   "metadata": {},
   "outputs": [
    {
     "name": "stdout",
     "output_type": "stream",
     "text": [
      "[0, 8, 9, 13]\n",
      "was iwi ia\n"
     ]
    }
   ],
   "source": [
    "#custom split\n",
    "\n",
    "\n",
    "def custom_split(inp,sep):\n",
    "#getting index of the separation value\n",
    "    k=0\n",
    "\n",
    "result=custom_split(inp,sep)"
   ]
  },
  {
   "cell_type": "code",
   "execution_count": null,
   "id": "31d83c00-95d9-4b4d-91c1-0ee0dc564ba9",
   "metadata": {},
   "outputs": [],
   "source": []
  },
  {
   "cell_type": "code",
   "execution_count": null,
   "id": "bae39fda-6edf-4263-82c7-86c013c81541",
   "metadata": {},
   "outputs": [],
   "source": []
  }
 ],
 "metadata": {
  "kernelspec": {
   "display_name": "Python 3 (ipykernel)",
   "language": "python",
   "name": "python3"
  },
  "language_info": {
   "codemirror_mode": {
    "name": "ipython",
    "version": 3
   },
   "file_extension": ".py",
   "mimetype": "text/x-python",
   "name": "python",
   "nbconvert_exporter": "python",
   "pygments_lexer": "ipython3",
   "version": "3.13.0"
  }
 },
 "nbformat": 4,
 "nbformat_minor": 5
}

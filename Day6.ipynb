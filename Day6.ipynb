{
 "cells": [
  {
   "cell_type": "code",
   "execution_count": 10,
   "id": "d65a6d79-55f8-4aee-9d09-74b4a4ae8379",
   "metadata": {},
   "outputs": [
    {
     "name": "stdout",
     "output_type": "stream",
     "text": [
      "(1, 2, 3, 5, 6, 7)\n",
      "{'name': 'hashir', 'father': 'Sajid'}\n"
     ]
    }
   ],
   "source": [
    "#function\n",
    "\n",
    "# def hashir(name='hashir'):\n",
    "#     print(name)\n",
    "\n",
    "# hashir()\n",
    "\n",
    "\n",
    "#args and kwargs\n",
    "\n",
    "# def func(*args,**kwargs):\n",
    "#     return args,kwargs\n",
    "\n",
    "# value,keyval=func(1,2,3,5,6,7,name='hashir',father='Sajid')\n",
    "# print(value)\n",
    "# print(keyval)"
   ]
  },
  {
   "cell_type": "code",
   "execution_count": 14,
   "id": "401d82ff-c71a-4ad0-a02a-9674b5fc841c",
   "metadata": {},
   "outputs": [
    {
     "name": "stdout",
     "output_type": "stream",
     "text": [
      "hi how you Hashir\n",
      "Hashir\n"
     ]
    }
   ],
   "source": [
    "# local vs global varibale\n",
    "name=\"Hashir\" # global scope accessable even inside a function\n",
    "def greet():\n",
    "\n",
    "    print('hi how you',name)\n",
    "greet()\n",
    "print(name)"
   ]
  },
  {
   "cell_type": "code",
   "execution_count": 15,
   "id": "fbde85b1-7aad-4421-931b-9233c6397d73",
   "metadata": {},
   "outputs": [
    {
     "name": "stdout",
     "output_type": "stream",
     "text": [
      "[4, 678, 90]\n"
     ]
    }
   ],
   "source": [
    "# lambda function\n",
    "ls=[1,3,4,5,678,90]\n",
    "filtering=list(filter(lambda x:x%2==0 ,ls))\n",
    "print(filtering)"
   ]
  },
  {
   "cell_type": "code",
   "execution_count": 18,
   "id": "2a744cc9-6b88-4f35-9c65-7761a0bf07da",
   "metadata": {},
   "outputs": [
    {
     "name": "stdout",
     "output_type": "stream",
     "text": [
      "[-2, -4032, -5852, -1056, -370272]\n"
     ]
    }
   ],
   "source": [
    "cal=[2,64,77,33,609]\n",
    "\n",
    "ls=list(map(lambda x:x-x*x , cal))\n",
    "print(ls)"
   ]
  },
  {
   "cell_type": "code",
   "execution_count": 21,
   "id": "6ee94df4-21ca-44d6-8cb4-0264e0940271",
   "metadata": {},
   "outputs": [
    {
     "name": "stdin",
     "output_type": "stream",
     "text": [
      "Calulate anything: 10**3\n"
     ]
    },
    {
     "name": "stdout",
     "output_type": "stream",
     "text": [
      "1000\n"
     ]
    }
   ],
   "source": [
    "#calculator using function\n",
    "\n",
    "def cal(a):\n",
    "    return eval(a)\n",
    "\n",
    "inp=input('Calulate anything:')\n",
    "ans=cal(inp)\n",
    "print(ans)\n",
    "    "
   ]
  },
  {
   "cell_type": "code",
   "execution_count": 1,
   "id": "12281d4d-e555-4b7e-96d2-7081267940af",
   "metadata": {},
   "outputs": [
    {
     "name": "stdin",
     "output_type": "stream",
     "text": [
      "give me the value: 10\n"
     ]
    },
    {
     "name": "stdout",
     "output_type": "stream",
     "text": [
      "3628800\n"
     ]
    }
   ],
   "source": [
    "# factorial series using recursion\n",
    "\n",
    "def fab(val):\n",
    "    if val==0 or val==1:\n",
    "        return 1\n",
    "    else:\n",
    "        value=val*fab(val-1)\n",
    "        return value\n",
    "\n",
    "inp=int(input('give me the value:'))\n",
    "ans=fab(inp)\n",
    "print(ans)"
   ]
  },
  {
   "cell_type": "code",
   "execution_count": 13,
   "id": "73b44e45-1b46-44b4-92c6-1b745634bcb2",
   "metadata": {},
   "outputs": [
    {
     "name": "stdin",
     "output_type": "stream",
     "text": [
      "give me the value: 6\n"
     ]
    },
    {
     "name": "stdout",
     "output_type": "stream",
     "text": [
      "8\n"
     ]
    }
   ],
   "source": [
    "#F(n)=F(n−1)+F(n−2)  fabonacci series\n",
    "def fab(val):\n",
    "    if val==0 or val==1:\n",
    "        return val\n",
    "    else:\n",
    "        value=fab(val-1)+fab(val-2)\n",
    "        return value\n",
    "\n",
    "inp=int(input('give me the value:'))\n",
    "ans=fab(inp)\n",
    "print(ans)"
   ]
  },
  {
   "cell_type": "code",
   "execution_count": null,
   "id": "d0405e40-02a8-4c78-9b26-7a4fee8e79c6",
   "metadata": {},
   "outputs": [],
   "source": []
  }
 ],
 "metadata": {
  "kernelspec": {
   "display_name": "Python 3 (ipykernel)",
   "language": "python",
   "name": "python3"
  },
  "language_info": {
   "codemirror_mode": {
    "name": "ipython",
    "version": 3
   },
   "file_extension": ".py",
   "mimetype": "text/x-python",
   "name": "python",
   "nbconvert_exporter": "python",
   "pygments_lexer": "ipython3",
   "version": "3.13.0"
  }
 },
 "nbformat": 4,
 "nbformat_minor": 5
}

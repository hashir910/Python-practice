{
 "cells": [
  {
   "cell_type": "code",
   "execution_count": 1,
   "id": "57596764-d329-45d7-a31f-d80dff671427",
   "metadata": {},
   "outputs": [
    {
     "name": "stdout",
     "output_type": "stream",
     "text": [
      "Hashir\n"
     ]
    }
   ],
   "source": [
    "name='Hashir'\n",
    "print(name)"
   ]
  },
  {
   "cell_type": "code",
   "execution_count": 3,
   "id": "7a8c30de-9f43-4d6c-a339-3f00e038047a",
   "metadata": {},
   "outputs": [
    {
     "name": "stdout",
     "output_type": "stream",
     "text": [
      "Day 1 – Python Basics & Setup\n",
      "Python install karo (use VS Code ya Jupyter Notebook).\n",
      "\n",
      "Basic syntax: print(), comments, indentation.\n",
      "\n",
      "Variables, Data Types (int, float, str, bool)\n",
      "\n",
      "Type casting, input(), type()\n",
      "\n",
      "Practice: Simple calculator banaao (2 numbers add, subtract, multiply)\n",
      "\n",
      "Practice: w3schools Python Quiz\n"
     ]
    }
   ],
   "source": [
    "sentence='''Day 1 – Python Basics & Setup\n",
    "Python install karo (use VS Code ya Jupyter Notebook).\n",
    "\n",
    "Basic syntax: print(), comments, indentation.\n",
    "\n",
    "Variables, Data Types (int, float, str, bool)\n",
    "\n",
    "Type casting, input(), type()\n",
    "\n",
    "Practice: Simple calculator banaao (2 numbers add, subtract, multiply)\n",
    "\n",
    "Practice: w3schools Python Quiz'''\n",
    "\n",
    "print(sentence)"
   ]
  },
  {
   "cell_type": "code",
   "execution_count": 6,
   "id": "8b4def42-10a9-41bf-8022-cbdf4dec4510",
   "metadata": {},
   "outputs": [
    {
     "data": {
      "text/plain": [
       "'multi\\nline \\ncomment'"
      ]
     },
     "execution_count": 6,
     "metadata": {},
     "output_type": "execute_result"
    }
   ],
   "source": [
    "#multi line comments syntax\n",
    "\n",
    "\"\"\"multi\n",
    "line \n",
    "comment\"\"\""
   ]
  },
  {
   "cell_type": "code",
   "execution_count": 13,
   "id": "062f0d99-eb23-4648-9892-9557b654ed55",
   "metadata": {},
   "outputs": [
    {
     "name": "stdout",
     "output_type": "stream",
     "text": [
      "Hashir 19--=Hashir\n"
     ]
    }
   ],
   "source": [
    "# print use cases\n",
    "\n",
    "name='Hashir'\n",
    "age=19\n",
    "\n",
    "print(name,sep='-',end=' ')\n",
    "print(age,name,sep='--=')"
   ]
  },
  {
   "cell_type": "code",
   "execution_count": 25,
   "id": "070071fb-4dc5-4bee-bfe1-97f2312038fe",
   "metadata": {},
   "outputs": [
    {
     "name": "stdout",
     "output_type": "stream",
     "text": [
      "<class 'str'>\n",
      "<class 'int'>\n",
      "<class 'type'>\n",
      "20.91\n",
      "20.91\n",
      "19\n"
     ]
    }
   ],
   "source": [
    "# data types\n",
    "\n",
    "str='19'\n",
    "value=19\n",
    "flaot=20.912\n",
    "bol=True\n",
    "\n",
    "print(type(str))\n",
    "print(type(value))\n",
    "print(type(float))\n",
    "print('{:.2f}'.format(flaot))\n",
    "\n",
    "print(round(flaot,2))\n",
    "# type casting\n",
    "\n",
    "print(int(19))\n"
   ]
  },
  {
   "cell_type": "code",
   "execution_count": 29,
   "id": "4913bf4c-a989-4646-8bb9-b88e8eb6f2e0",
   "metadata": {},
   "outputs": [
    {
     "name": "stdin",
     "output_type": "stream",
     "text": [
      "what you want to do 10*19\n"
     ]
    },
    {
     "ename": "ValueError",
     "evalue": "invalid literal for int() with base 10: '10*19'",
     "output_type": "error",
     "traceback": [
      "\u001b[1;31m---------------------------------------------------------------------------\u001b[0m",
      "\u001b[1;31mValueError\u001b[0m                                Traceback (most recent call last)",
      "Cell \u001b[1;32mIn[29], line 5\u001b[0m\n\u001b[0;32m      1\u001b[0m \u001b[38;5;66;03m# end project (calculator)'\u001b[39;00m\n\u001b[0;32m      3\u001b[0m val1\u001b[38;5;241m=\u001b[39m\u001b[38;5;28minput\u001b[39m(\u001b[38;5;124m'\u001b[39m\u001b[38;5;124mwhat you want to do\u001b[39m\u001b[38;5;124m'\u001b[39m)\n\u001b[1;32m----> 5\u001b[0m \u001b[38;5;28mprint\u001b[39m(\u001b[38;5;28;43mint\u001b[39;49m\u001b[43m(\u001b[49m\u001b[43mval1\u001b[49m\u001b[43m)\u001b[49m)\n",
      "\u001b[1;31mValueError\u001b[0m: invalid literal for int() with base 10: '10*19'"
     ]
    }
   ],
   "source": [
    "# end project (calculator)'\n",
    "\n",
    "val1=input('what you want to do')\n",
    "\n",
    "print(int(val1))\n",
    "\n"
   ]
  },
  {
   "cell_type": "code",
   "execution_count": null,
   "id": "849e3410-a5b1-4e03-a66a-c36f3ce3d986",
   "metadata": {},
   "outputs": [],
   "source": []
  }
 ],
 "metadata": {
  "kernelspec": {
   "display_name": "Python 3 (ipykernel)",
   "language": "python",
   "name": "python3"
  },
  "language_info": {
   "codemirror_mode": {
    "name": "ipython",
    "version": 3
   },
   "file_extension": ".py",
   "mimetype": "text/x-python",
   "name": "python",
   "nbconvert_exporter": "python",
   "pygments_lexer": "ipython3",
   "version": "3.13.0"
  }
 },
 "nbformat": 4,
 "nbformat_minor": 5
}

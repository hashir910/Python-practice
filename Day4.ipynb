{
 "cells": [
  {
   "cell_type": "code",
   "execution_count": 1,
   "id": "9dfe7895-7385-4292-8be4-f2ff05e9dbbc",
   "metadata": {},
   "outputs": [],
   "source": [
    "#•\tLists: creation, indexing, slicing, methods (append, pop, sort)"
   ]
  },
  {
   "cell_type": "code",
   "execution_count": 63,
   "id": "6b5b0bc8-bc1f-4077-b80a-13225f6ff7f4",
   "metadata": {},
   "outputs": [
    {
     "name": "stdout",
     "output_type": "stream",
     "text": [
      "1\n",
      "2\n",
      "[9, 91, 10]\n"
     ]
    }
   ],
   "source": [
    "ls=[9,91,10]\n",
    "name='hashir'\n",
    "print(ls.count(9))\n",
    "print(ls.index(10))\n",
    "print(ls)\n"
   ]
  },
  {
   "cell_type": "code",
   "execution_count": 52,
   "id": "06d2ea8b-514f-44e3-98a9-bdd1b9a01a10",
   "metadata": {},
   "outputs": [
    {
     "name": "stdout",
     "output_type": "stream",
     "text": [
      "30\n",
      "[0, 2, 4, 6, 8, 10]\n",
      "9\n",
      "9\n",
      "10\n"
     ]
    }
   ],
   "source": [
    "#loops with list\n",
    "squarels=[i for i in range(11) if i%2==0]\n",
    "sumup=sum(squarels)\n",
    "print(sumup)\n",
    "print(squarels)\n",
    "for i in ls:\n",
    "    print(i)"
   ]
  },
  {
   "cell_type": "code",
   "execution_count": 64,
   "id": "81e074cc-6c11-41ef-89c6-429580507382",
   "metadata": {},
   "outputs": [
    {
     "name": "stdout",
     "output_type": "stream",
     "text": [
      "[10, 8, 6, 4, 2, 0]\n"
     ]
    }
   ],
   "source": [
    "squarels.sort(reverse=True)  #for desending order\n",
    "print(squarels)"
   ]
  },
  {
   "cell_type": "code",
   "execution_count": 65,
   "id": "e2c2dada-78e2-4e4a-8405-93f03e930229",
   "metadata": {},
   "outputs": [
    {
     "name": "stdout",
     "output_type": "stream",
     "text": [
      "[10, 91, 9]\n"
     ]
    }
   ],
   "source": [
    "lst=list(reversed(ls)) #just for reversing\n",
    "print(lst)"
   ]
  },
  {
   "cell_type": "code",
   "execution_count": 7,
   "id": "9d0fbbd0-c723-4a25-9919-4d028eb5970a",
   "metadata": {},
   "outputs": [
    {
     "name": "stdout",
     "output_type": "stream",
     "text": [
      "30\n"
     ]
    }
   ],
   "source": [
    "# finding max and min without max () and min()\n",
    "ls=[10,20,30]\n",
    "k=ls[0]\n",
    "for i in ls:\n",
    "    if i>k:\n",
    "        k=i\n",
    "print(k)\n",
    "        "
   ]
  },
  {
   "cell_type": "code",
   "execution_count": null,
   "id": "28dd073f-2f79-4526-bed4-1e34eba0947c",
   "metadata": {},
   "outputs": [],
   "source": []
  }
 ],
 "metadata": {
  "kernelspec": {
   "display_name": "Python 3 (ipykernel)",
   "language": "python",
   "name": "python3"
  },
  "language_info": {
   "codemirror_mode": {
    "name": "ipython",
    "version": 3
   },
   "file_extension": ".py",
   "mimetype": "text/x-python",
   "name": "python",
   "nbconvert_exporter": "python",
   "pygments_lexer": "ipython3",
   "version": "3.13.0"
  }
 },
 "nbformat": 4,
 "nbformat_minor": 5
}

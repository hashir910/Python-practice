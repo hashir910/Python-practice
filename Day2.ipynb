{
 "cells": [
  {
   "cell_type": "code",
   "execution_count": 4,
   "id": "37be00b0-10c3-4c08-a5ab-24d3ec1405e3",
   "metadata": {},
   "outputs": [
    {
     "name": "stdin",
     "output_type": "stream",
     "text": [
      "give me the value:  11\n"
     ]
    },
    {
     "name": "stdout",
     "output_type": "stream",
     "text": [
      "value is greater than or equal to 10\n"
     ]
    }
   ],
   "source": [
    "# if else elif\n",
    "\n",
    "val=int(input('give me the value: '))\n",
    "\n",
    "if val<=10:\n",
    "    print('value is less than or equal to 10')\n",
    "if val>=10:\n",
    "    print('value is greater than or equal to 10')\n",
    "\n"
   ]
  },
  {
   "cell_type": "code",
   "execution_count": 31,
   "id": "c8d3525e-695e-49f3-8060-43ba43582456",
   "metadata": {},
   "outputs": [
    {
     "name": "stdout",
     "output_type": "stream",
     "text": [
      "None 1\n",
      "kill\n"
     ]
    }
   ],
   "source": [
    "#checking not\n",
    "\n",
    "val==False\n",
    "\n",
    "if not val:\n",
    "    print(val,1)\n",
    "print('kill')"
   ]
  },
  {
   "cell_type": "code",
   "execution_count": null,
   "id": "e182969e-26ab-4f19-8fc9-e78e0ce7df0e",
   "metadata": {},
   "outputs": [],
   "source": []
  },
  {
   "cell_type": "code",
   "execution_count": null,
   "id": "98db0baf-0c35-43f5-86df-07cce8a72c74",
   "metadata": {},
   "outputs": [],
   "source": []
  }
 ],
 "metadata": {
  "kernelspec": {
   "display_name": "Python 3 (ipykernel)",
   "language": "python",
   "name": "python3"
  },
  "language_info": {
   "codemirror_mode": {
    "name": "ipython",
    "version": 3
   },
   "file_extension": ".py",
   "mimetype": "text/x-python",
   "name": "python",
   "nbconvert_exporter": "python",
   "pygments_lexer": "ipython3",
   "version": "3.13.0"
  }
 },
 "nbformat": 4,
 "nbformat_minor": 5
}
